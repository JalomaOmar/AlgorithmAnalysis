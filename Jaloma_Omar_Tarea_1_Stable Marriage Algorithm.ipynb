{
 "cells": [
  {
   "cell_type": "code",
   "execution_count": 12,
   "metadata": {},
   "outputs": [
    {
     "name": "stdout",
     "output_type": "stream",
     "text": [
      "{'Jessica': 'David', 'Daniela': 'Pablo', 'Mariana': 'Juan', 'Brenda': 'Hugo'}\n",
      "{'Pablo': 'Daniela', 'Juan': 'Mariana', 'Hugo': 'Brenda', 'David': 'Jessica'}\n"
     ]
    }
   ],
   "source": [
    "def getlist(dict): #Esta función es para obtener listas, tanto de hombres como mujeres que nos serán de utilidad. \n",
    "    list = [] \n",
    "    for key in dict.keys(): \n",
    "        list.append(key) \n",
    "          \n",
    "    return list\n",
    "\n",
    "def sma(d1, d2): #sma=stable marriage algorithm\n",
    "    vs=getlist(d1) #vs=vector de solter@s 'solteros' si 'd1' es el diccionario de hombres y 'solteras' si 'd1' es el diccionario de mujeres\n",
    "    vw=getlist(d2) #vw= vector de llaves del diccionario 'd2'\n",
    "    np={} #nm=\"número de propuestas hasta el momento de las llaves del diccionario 'd1'\"\n",
    "    ec={} #ec=\"estado civil del diccionario 'd2', ie. 'ec' es un diccionario que tiene las mismas llaves de 'd2' pero en lugar de tener las listas de preferencias, se les asigna un valor de True o False dependiendo de si el elemento está 'libre' o no\"\n",
    "    pareja={} #pareja es un diccionario que tendrá las mismas llaves que 'd2' pero a éstas se les asigna al inicio una pareja aleatoria y después es el diccionario que regresa la función, con las parejas ya formadas. \n",
    "    for i in range(len(vs)):\n",
    "        np.setdefault(vs[i],0) \n",
    "        ec.setdefault(vw[i], True) #En esta parte se están construyendo los diccionarios 'np, 'ec' y 'pareja'.\n",
    "        pareja.setdefault(vw[i], vs[i])\n",
    "    while vs!=[]: #Esta condición es equivalente a 'mientras existan hombres/mujeres (ie. seres que proponen [Sociedad patriarcal/matriarcal]) libres'\n",
    "        proponedor=vs[0] #Tomando el primer elemento de 'vs' para analizar su situaión\n",
    "        receptor=d1[proponedor][np[proponedor]] #Tomando la primera opción de 'proponedor' en su lista de preferencias\n",
    "        if ec[receptor]: #Aquí se verifica la condición de soltería de 'receptor'\n",
    "            pareja[receptor]=proponedor #Receptor acepta la propuesta de 'proponedor'\n",
    "            np[proponedor]+=1 #El número de propuestas hechas por 'proponedor' aumenta en una unidad\n",
    "            vs.pop(0) #Se elimina a proponedor del vector de solter@s\n",
    "            ec[receptor]=False #El estado civil de receptor cambia de solter@ a casad@\n",
    "        elif(d2[receptor].index( pareja[receptor] )> d2[receptor].index( proponedor )): #En esta línea se compara al/a la actual espos@ de receptor con proponedor respecto a la lista de preferencias de receptor\n",
    "            vs.append(pareja[ receptor]) #Dado que proponedor está más arriba en la lista de preferencias de receptor, la 'pareja actual' de receptor vuelve al vector de \"solter@s\"\n",
    "            pareja[receptor]=proponedor #Se asigna a proponedor como pareja de receptor\n",
    "            np[proponedor]+=1 #El número de propuestas de proponedor aumenta en uno\n",
    "            vs.pop(0) #Se elimina a proponedor del vector de 'solter@s'\n",
    "        else:\n",
    "            np[proponedor]+=1 #Proponedor, en este caso, no tuvo suerte y sólo aumenta el número de propuestas que ha hecho.\n",
    "    \n",
    "    return pareja #Se devuelve el diccionario que contiene a las parejas con índices que corresponden a las llaves del diccionario 'd2'.\n",
    "            \n",
    "            \n",
    "        \n",
    "   \n",
    "md={\"Pablo\":[\"Jessica\", \"Brenda\", \"Daniela\", \"Mariana\"], \"Juan\":[\"Daniela\", \"Jessica\", \"Mariana\", \"Brenda\"], \"Hugo\":[\"Brenda\",\"Mariana\", \"Daniela\", \"Jessica\"], \"David\":[\"Jessica\", \"Brenda\", \"Mariana\", \"Daniela\"]}\n",
    "wd={\"Jessica\":[\"David\", \"Pablo\", \"Juan\", \"Hugo\"], \"Daniela\":[\"Pablo\", \"Juan\", \"Hugo\", \"David\"], \"Mariana\":[\"Pablo\", \"Hugo\", \"David\", \"Juan\"], \"Brenda\":[\"Hugo\", \"David\", \"Juan\", \"Pablo\"]}\n",
    "\n",
    "print( sma(md, wd))\n",
    "print( sma(wd, md))\n",
    "\n",
    "\n",
    "#def sma(md, wd): #sma=stable marriage algorithm, md=men dictionary, w=women dictionary\n",
    "    "
   ]
  },
  {
   "cell_type": "code",
   "execution_count": null,
   "metadata": {},
   "outputs": [],
   "source": []
  }
 ],
 "metadata": {
  "kernelspec": {
   "display_name": "Python 3",
   "language": "python",
   "name": "python3"
  },
  "language_info": {
   "codemirror_mode": {
    "name": "ipython",
    "version": 3
   },
   "file_extension": ".py",
   "mimetype": "text/x-python",
   "name": "python",
   "nbconvert_exporter": "python",
   "pygments_lexer": "ipython3",
   "version": "3.8.3"
  }
 },
 "nbformat": 4,
 "nbformat_minor": 4
}
